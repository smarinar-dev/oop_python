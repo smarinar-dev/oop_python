{
 "cells": [
  {
   "cell_type": "markdown",
   "id": "50a57fb8",
   "metadata": {},
   "source": [
    "### Access control\n",
    "\n",
    "OOP lenguages have some notion of access control. Attributes and methods of an object can be:\n",
    "\n",
    "* **Private**: only that object can access them.\n",
    "* **Protected**: only that class and subclasses can access them.\n",
    "* **Public**: any other object can access them.\n",
    "\n",
    "Python doesn't do this. Technically, all methods and attributes on a class are publicly available.\n",
    "\n",
    "By convention, we should also prefix an internal attribute or method with an underscore character, \\_. There is nothing inside the interpreter to stop from accessing it. It's just a warning.\n",
    "\n",
    "For a stronger warning we can underscore the attribute or method twice \\_\\_. This is known as **name mangling**, attributes and methods can still be called by outside objects but is an indicator that we want the attribute to remain private. "
   ]
  },
  {
   "cell_type": "code",
   "execution_count": 2,
   "id": "f4e72a33",
   "metadata": {},
   "outputs": [],
   "source": [
    "class SecretString:\n",
    "    '''A not-at-all secure way to store a secret string.'''\n",
    "    \n",
    "    def __init__(self, plain_string, pass_phrase):\n",
    "        self.__plain_string = plain_string\n",
    "        self.__pass_phrase = pass_phrase\n",
    "        \n",
    "    def decrypt(self, pass_phrase):\n",
    "        '''Only show the string if the pass_phrase is correct.'''\n",
    "        if pass_phrase == self.__pass_phrase:\n",
    "            return self.__plain_string\n",
    "        else:\n",
    "            return ''"
   ]
  },
  {
   "cell_type": "code",
   "execution_count": 3,
   "id": "0538178d",
   "metadata": {},
   "outputs": [],
   "source": [
    "secret_string = SecretString(\"ACME: Top Secret\", \"antwerp\")"
   ]
  },
  {
   "cell_type": "code",
   "execution_count": 4,
   "id": "e350d18c",
   "metadata": {},
   "outputs": [
    {
     "name": "stdout",
     "output_type": "stream",
     "text": [
      "ACME: Top Secret\n"
     ]
    }
   ],
   "source": [
    "print(secret_string.decrypt(\"antwerp\"))"
   ]
  },
  {
   "cell_type": "code",
   "execution_count": 5,
   "id": "30400c58",
   "metadata": {},
   "outputs": [
    {
     "ename": "AttributeError",
     "evalue": "'SecretString' object has no attribute '__plain_text'",
     "output_type": "error",
     "traceback": [
      "\u001b[0;31m---------------------------------------------------------------------------\u001b[0m",
      "\u001b[0;31mAttributeError\u001b[0m                            Traceback (most recent call last)",
      "\u001b[0;32m/var/folders/ly/y6ch8t2s3830z11w_j6gjrwh0000gn/T/ipykernel_78043/2249558747.py\u001b[0m in \u001b[0;36m<module>\u001b[0;34m\u001b[0m\n\u001b[0;32m----> 1\u001b[0;31m \u001b[0mprint\u001b[0m\u001b[0;34m(\u001b[0m\u001b[0msecret_string\u001b[0m\u001b[0;34m.\u001b[0m\u001b[0m__plain_text\u001b[0m\u001b[0;34m)\u001b[0m\u001b[0;34m\u001b[0m\u001b[0;34m\u001b[0m\u001b[0m\n\u001b[0m",
      "\u001b[0;31mAttributeError\u001b[0m: 'SecretString' object has no attribute '__plain_text'"
     ]
    }
   ],
   "source": [
    "print(secret_string.__plain_text)"
   ]
  },
  {
   "cell_type": "markdown",
   "id": "301ebcb9",
   "metadata": {},
   "source": [
    "However, it can be easyly hacked."
   ]
  },
  {
   "cell_type": "code",
   "execution_count": 6,
   "id": "e89adf1a",
   "metadata": {},
   "outputs": [
    {
     "name": "stdout",
     "output_type": "stream",
     "text": [
      "ACME: Top Secret\n"
     ]
    }
   ],
   "source": [
    "print(secret_string._SecretString__plain_string)"
   ]
  },
  {
   "cell_type": "markdown",
   "id": "d90ca51e",
   "metadata": {},
   "source": [
    "This is Python name mangling at work. When we use a double underscore, the property is prefixed with `_<classname>`. When methods in the class internally access the variable, they are automatically unmangled. When external classes wish to access it, they have to do the name mangling themselves. So, name mangling does not guarantee privacy, it only strongly recommends it."
   ]
  },
  {
   "cell_type": "markdown",
   "id": "f4ff825d",
   "metadata": {},
   "source": [
    "### Third-party libraries"
   ]
  },
  {
   "cell_type": "markdown",
   "id": "39548597",
   "metadata": {},
   "source": [
    "Find the library you want on the Python Package Index (PyPI) at [http://pypi.python.org/](http://pypi.python.org/).  Once you've identified a package that you want to install, you can use a tool called `pip` to install it:\n",
    "\n",
    "    pip install requests\n",
    "   \n",
    "you'll either be installing the third-party library directly into your system Python directory, or more likely, get an error that you don't have permission to do so. Common consensus in the Python community is that you should only use system installers to install the third-party library to your system Python directory.\n",
    "\n",
    "The venv tool gives you a mini Python installation called a *virtual environment* in your working directory. When you activate the mini Python, commands related to Python will work on that directory instead of the system directory. So when you run `pip` or `python`, it won't touch the system Python at all. Here's how to use it:\n",
    "\n",
    "    cd project_directory\n",
    "    python -m venv env\n",
    "    source env/bin/activate  # on Linux or MacOS\n",
    "    \n",
    "    source env/bin/deactivate  # on Linux or MacOS\n",
    "    \n",
    "Typically, you'll create a different virtual environment for each Python project you work on. You can store your virtual environments anywhere, but I keep mine in the same directory as the rest of my project files (but ignored in version control), so first we cd into that directory. Then we run the venv utility to create a virtual environment named env. Finally, we use one of the last two lines (depending on the operating system, as indicated in the comments) to activate the environment. We'll need to execute this line each time we want to use that particular virtualenv, and then use the command `deactivate` when we are done working on this project.\n",
    "\n",
    "Virtual environments are a terrific way to keep your third-party dependencies separate. Further, it prevents conflicts between system-installed packages and pip installed packages if you try to install the same package using different tools."
   ]
  },
  {
   "cell_type": "code",
   "execution_count": null,
   "id": "22cebbe8",
   "metadata": {},
   "outputs": [],
   "source": []
  }
 ],
 "metadata": {
  "kernelspec": {
   "display_name": "Python 3 (ipykernel)",
   "language": "python",
   "name": "python3"
  },
  "language_info": {
   "codemirror_mode": {
    "name": "ipython",
    "version": 3
   },
   "file_extension": ".py",
   "mimetype": "text/x-python",
   "name": "python",
   "nbconvert_exporter": "python",
   "pygments_lexer": "ipython3",
   "version": "3.9.13"
  }
 },
 "nbformat": 4,
 "nbformat_minor": 5
}
