{
 "cells": [
  {
   "cell_type": "markdown",
   "id": "c21a2c60",
   "metadata": {},
   "source": [
    "## Creating Python Classes"
   ]
  },
  {
   "cell_type": "markdown",
   "id": "75a8bce7",
   "metadata": {},
   "source": [
    "### Creating the simplest class:\n",
    "\n",
    "* The class definition line is followed by the class contents indented.\n",
    "* The Python style guide states that class names must follow CamelCase notation."
   ]
  },
  {
   "cell_type": "code",
   "execution_count": 2,
   "id": "121d54ee",
   "metadata": {},
   "outputs": [],
   "source": [
    "class MyFirstClass:\n",
    "    pass"
   ]
  },
  {
   "cell_type": "markdown",
   "id": "7132d84d",
   "metadata": {},
   "source": [
    "Instantiate two objects of a class"
   ]
  },
  {
   "cell_type": "code",
   "execution_count": 5,
   "id": "43c569c8",
   "metadata": {},
   "outputs": [],
   "source": [
    "a = MyFirstClass()\n",
    "b = MyFirstClass()"
   ]
  },
  {
   "cell_type": "markdown",
   "id": "0bce5838",
   "metadata": {},
   "source": [
    "Printing the objects tells wich class they are and their memory address."
   ]
  },
  {
   "cell_type": "code",
   "execution_count": 9,
   "id": "e7fa6bf9",
   "metadata": {},
   "outputs": [
    {
     "name": "stdout",
     "output_type": "stream",
     "text": [
      "<__main__.MyFirstClass object at 0x7fa031c50820>\n",
      "<__main__.MyFirstClass object at 0x7fa031c50220>\n"
     ]
    }
   ],
   "source": [
    "print(a)\n",
    "print(b)"
   ]
  },
  {
   "cell_type": "markdown",
   "id": "f68c0cb7",
   "metadata": {},
   "source": [
    "### Adding attributes with dot notation:"
   ]
  },
  {
   "cell_type": "code",
   "execution_count": 10,
   "id": "c5fd4d63",
   "metadata": {},
   "outputs": [],
   "source": [
    "class Point:\n",
    "    pass"
   ]
  },
  {
   "cell_type": "code",
   "execution_count": 11,
   "id": "4af3ee71",
   "metadata": {},
   "outputs": [],
   "source": [
    "p1 = Point()\n",
    "p2 = Point()"
   ]
  },
  {
   "cell_type": "code",
   "execution_count": 12,
   "id": "d25896dc",
   "metadata": {},
   "outputs": [],
   "source": [
    "p1.x = 5\n",
    "p1.y = 7"
   ]
  },
  {
   "cell_type": "code",
   "execution_count": 13,
   "id": "944c805e",
   "metadata": {},
   "outputs": [],
   "source": [
    "p2.x = 3\n",
    "p2.y = -1"
   ]
  },
  {
   "cell_type": "code",
   "execution_count": 15,
   "id": "2d7e8210",
   "metadata": {},
   "outputs": [
    {
     "name": "stdout",
     "output_type": "stream",
     "text": [
      "<__main__.Point object at 0x7fa031c501f0> 5 7\n",
      "<__main__.Point object at 0x7fa031c50b80> 3 -1\n"
     ]
    }
   ],
   "source": [
    "print(p1, p1.x, p1.y)\n",
    "print(p2, p2.x, p2.y)"
   ]
  },
  {
   "cell_type": "markdown",
   "id": "2fb9ad20",
   "metadata": {},
   "source": [
    "### Adding behavior to classes:\n",
    "\n",
    "* A method in Python is formatted identically to a function.\n",
    "* Difference between functions and methods: methods require the *self* argument.\n",
    "* *self* is a reference to the object that the method is being invoked on."
   ]
  },
  {
   "cell_type": "code",
   "execution_count": 32,
   "id": "6f39889b",
   "metadata": {},
   "outputs": [],
   "source": [
    "class Point:\n",
    "    def reset(self):\n",
    "        self.x = 0\n",
    "        self.y = 0"
   ]
  },
  {
   "cell_type": "code",
   "execution_count": 33,
   "id": "84fbbf30",
   "metadata": {},
   "outputs": [
    {
     "name": "stdout",
     "output_type": "stream",
     "text": [
      "0 0\n"
     ]
    }
   ],
   "source": [
    "p = Point()\n",
    "p.reset()\n",
    "print(p.x, p.y)"
   ]
  },
  {
   "cell_type": "markdown",
   "id": "7beff2e9",
   "metadata": {},
   "source": [
    "Alternatively we can call the function within the class explicitly passing the object as the *self* argument"
   ]
  },
  {
   "cell_type": "code",
   "execution_count": 19,
   "id": "022a6820",
   "metadata": {},
   "outputs": [
    {
     "name": "stdout",
     "output_type": "stream",
     "text": [
      "0 0\n"
     ]
    }
   ],
   "source": [
    "p = Point()\n",
    "Point.reset(p)\n",
    "print(p.x, p.y)"
   ]
  },
  {
   "cell_type": "markdown",
   "id": "bb6e86a4",
   "metadata": {},
   "source": [
    "### More arguments and methods"
   ]
  },
  {
   "cell_type": "code",
   "execution_count": 28,
   "id": "7cbfd829",
   "metadata": {},
   "outputs": [],
   "source": [
    "import math\n",
    "\n",
    "class Point:\n",
    "    \n",
    "    def move(self, x, y):\n",
    "        self.x = x\n",
    "        self.y = y\n",
    "        \n",
    "    def reset(self):\n",
    "        self.move(0, 0)\n",
    "        \n",
    "    def calculate_distance(self, other_point):\n",
    "        return math.sqrt(\n",
    "                (self.x - other_point.x)**2 +\n",
    "                (self.y - other_point.y)**2)"
   ]
  },
  {
   "cell_type": "code",
   "execution_count": 29,
   "id": "9730b0b6",
   "metadata": {},
   "outputs": [],
   "source": [
    "point1 = Point()\n",
    "point2 = Point()"
   ]
  },
  {
   "cell_type": "code",
   "execution_count": 30,
   "id": "cc0604e2",
   "metadata": {},
   "outputs": [],
   "source": [
    "point1.reset()\n",
    "point2.move(5, 0)"
   ]
  },
  {
   "cell_type": "code",
   "execution_count": 31,
   "id": "cba2d20a",
   "metadata": {},
   "outputs": [
    {
     "name": "stdout",
     "output_type": "stream",
     "text": [
      "5.0\n",
      "4.47213595499958\n",
      "0.0\n"
     ]
    }
   ],
   "source": [
    "print(point2.calculate_distance(point1))\n",
    "assert(point2.calculate_distance(point1) ==\n",
    "       point1.calculate_distance(point2))\n",
    "point1.move(3, 4)\n",
    "print(point1.calculate_distance(point2))\n",
    "print(point1.calculate_distance(point1))"
   ]
  },
  {
   "cell_type": "markdown",
   "id": "1ead998c",
   "metadata": {},
   "source": [
    "### Initializing an object\n",
    "\n",
    "Python's initialization method: `___init___`"
   ]
  },
  {
   "cell_type": "code",
   "execution_count": 34,
   "id": "18e6053c",
   "metadata": {},
   "outputs": [],
   "source": [
    "class Point:\n",
    "    \n",
    "    def __init__(self, x, y):\n",
    "        self.move(x, y)\n",
    "        \n",
    "    def move(self, x, y):\n",
    "        self.x = x\n",
    "        self.y = y\n",
    "        \n",
    "    def reset(self):\n",
    "        self.x = 0\n",
    "        self.y = 0"
   ]
  },
  {
   "cell_type": "markdown",
   "id": "dcba9cf8",
   "metadata": {},
   "source": [
    "Now, if we try to construct a point without including the proper initialization parameters, it will fail with a not enough arguments error."
   ]
  },
  {
   "cell_type": "code",
   "execution_count": 35,
   "id": "f4be2408",
   "metadata": {},
   "outputs": [
    {
     "name": "stdout",
     "output_type": "stream",
     "text": [
      "3 5\n"
     ]
    }
   ],
   "source": [
    "point = Point(3, 5)\n",
    "print(point.x, point.y)"
   ]
  },
  {
   "cell_type": "markdown",
   "id": "95ac3011",
   "metadata": {},
   "source": [
    "If the calling object does not provide this argument, then the default argument is used instead.\n",
    "\n",
    "Here a default value (x=0, y=0) is set for the required parameters."
   ]
  },
  {
   "cell_type": "code",
   "execution_count": 36,
   "id": "c6e70064",
   "metadata": {},
   "outputs": [],
   "source": [
    "class Point:\n",
    "    \n",
    "    def __init__(self, x = 0, y = 0):\n",
    "        self.move(x, y)\n",
    "        \n",
    "    def move(self, x, y):\n",
    "        self.x = x\n",
    "        self.y = y\n",
    "        \n",
    "    def reset(self):\n",
    "        self.x = 0\n",
    "        self.y = 0"
   ]
  },
  {
   "cell_type": "markdown",
   "id": "871bfd12",
   "metadata": {},
   "source": [
    "### Documentation\n",
    "\n",
    "It is important to write API documentation that clearly summarizes what each object and method does. Python uses **docstrings** for this purpose. Apostrophes (') and quotes (\") can be used interchangebly."
   ]
  },
  {
   "cell_type": "code",
   "execution_count": 37,
   "id": "969e18f4",
   "metadata": {},
   "outputs": [],
   "source": [
    "import math\n",
    "\n",
    "class Point:\n",
    "    'Represents a point in two-dimensional geometric coordinates'\n",
    "    \n",
    "    def __init__(self, x = 0, y = 0):\n",
    "        '''Initialize the position of a new point. The x and y\n",
    "   coordinates can be specified. If they are not, the\n",
    "              point defaults to the origin.'''\n",
    "        self.move(x, y)\n",
    "        \n",
    "    def move(self, x, y):\n",
    "        \"Move the point to a new location in 2D space.\"\n",
    "        self.x = x\n",
    "        self.y = y\n",
    "        \n",
    "    def reset(self):\n",
    "        'Reset the point back to the geometric origin: 0, 0'\n",
    "        self.x = 0\n",
    "        self.y = 0\n",
    "        \n",
    "    def calculate_distance(self, other_point):\n",
    "        \"\"\"Calculate the distance from this point to a second\n",
    "           point passed as a parameter.\n",
    "           \n",
    "           This function uses the Pythagorean Theorem to calculate\n",
    "   the distance between the two points. The distance is\n",
    "           returned as a float.\"\"\"\n",
    "        return math.sqrt(\n",
    "                (self.x - other_point.x)**2 +\n",
    "                (self.y - other_point.y)**2)"
   ]
  },
  {
   "cell_type": "code",
   "execution_count": 38,
   "id": "b9615d07",
   "metadata": {},
   "outputs": [
    {
     "name": "stdout",
     "output_type": "stream",
     "text": [
      "Help on class Point in module __main__:\n",
      "\n",
      "class Point(builtins.object)\n",
      " |  Point(x=0, y=0)\n",
      " |  \n",
      " |  Represents a point in two-dimensional geometric coordinates\n",
      " |  \n",
      " |  Methods defined here:\n",
      " |  \n",
      " |  __init__(self, x=0, y=0)\n",
      " |      Initialize the position of a new point. The x and y\n",
      " |      coordinates can be specified. If they are not, the\n",
      " |                 point defaults to the origin.\n",
      " |  \n",
      " |  calculate_distance(self, other_point)\n",
      " |      Calculate the distance from this point to a second\n",
      " |              point passed as a parameter.\n",
      " |              \n",
      " |              This function uses the Pythagorean Theorem to calculate\n",
      " |      the distance between the two points. The distance is\n",
      " |              returned as a float.\n",
      " |  \n",
      " |  move(self, x, y)\n",
      " |      Move the point to a new location in 2D space.\n",
      " |  \n",
      " |  reset(self)\n",
      " |      Reset the point back to the geometric origin: 0, 0\n",
      " |  \n",
      " |  ----------------------------------------------------------------------\n",
      " |  Data descriptors defined here:\n",
      " |  \n",
      " |  __dict__\n",
      " |      dictionary for instance variables (if defined)\n",
      " |  \n",
      " |  __weakref__\n",
      " |      list of weak references to the object (if defined)\n",
      "\n"
     ]
    }
   ],
   "source": [
    "help(Point)"
   ]
  },
  {
   "cell_type": "code",
   "execution_count": null,
   "id": "5b1d0ccd",
   "metadata": {},
   "outputs": [],
   "source": []
  }
 ],
 "metadata": {
  "kernelspec": {
   "display_name": "Python 3 (ipykernel)",
   "language": "python",
   "name": "python3"
  },
  "language_info": {
   "codemirror_mode": {
    "name": "ipython",
    "version": 3
   },
   "file_extension": ".py",
   "mimetype": "text/x-python",
   "name": "python",
   "nbconvert_exporter": "python",
   "pygments_lexer": "ipython3",
   "version": "3.9.13"
  }
 },
 "nbformat": 4,
 "nbformat_minor": 5
}
